{
 "cells": [
  {
   "cell_type": "markdown",
   "metadata": {},
   "source": [
    "# Clean & Analyze Social Media\n",
    "\n",
    "## Introduction\n",
    "\n",
    "Social media has become a ubiquitous part of modern life, with platforms such as Instagram, Twitter, and Facebook serving as essential communication channels. Social media data sets are vast and complex, making analysis a challenging task for businesses and researchers alike. In this project, we explore a simulated social media, for example Tweets, data set to understand trends in likes across different categories.\n",
    "\n",
    "## Project Scope\n",
    "\n",
    "The objective of this project is to analyze tweets (or other social media data) and gain insights into user engagement. We will explore the data set using visualization techniques to understand the distribution of likes across different categories. Finally, we will analyze the data to draw conclusions about the most popular categories and the overall engagement on the platform."
   ]
  },
  {
   "cell_type": "markdown",
   "metadata": {},
   "source": [
    "## 1. Importing required Libraries"
   ]
  },
  {
   "cell_type": "code",
   "execution_count": 17,
   "metadata": {},
   "outputs": [],
   "source": [
    "import pandas as pd\n",
    "import matplotlib as mpl\n",
    "import matplotlib.pyplot as plt\n",
    "import numpy as np\n",
    "import seaborn as sns\n",
    "import random"
   ]
  },
  {
   "cell_type": "markdown",
   "metadata": {},
   "source": [
    "## 2. Generating Dummy Dataset for Analysis"
   ]
  },
  {
   "cell_type": "code",
   "execution_count": 18,
   "metadata": {},
   "outputs": [],
   "source": [
    "categories = ['Food', 'Travel', 'Fashion', 'Fitness', 'Music', 'Culture', 'Family','Health']"
   ]
  },
  {
   "cell_type": "code",
   "execution_count": 19,
   "metadata": {},
   "outputs": [],
   "source": [
    "data = {'Date':pd.date_range('2021-01-01',periods=500),\n",
    "        'Category':[random.choice(categories) for _ in range(500)],\n",
    "        'Likes':np.random.randint(0, 10000, size=500)}"
   ]
  },
  {
   "cell_type": "markdown",
   "metadata": {},
   "source": [
    "## 3. Creating a DataFrame"
   ]
  },
  {
   "cell_type": "code",
   "execution_count": 20,
   "metadata": {},
   "outputs": [],
   "source": [
    "#Using Pandas for creating dataframe\n",
    "\n",
    "df = pd.DataFrame(data)"
   ]
  },
  {
   "cell_type": "markdown",
   "metadata": {},
   "source": [
    "## 4. Exploring the Dataset"
   ]
  },
  {
   "cell_type": "code",
   "execution_count": 21,
   "metadata": {},
   "outputs": [
    {
     "name": "stdout",
     "output_type": "stream",
     "text": [
      "          Date Category  Likes\n",
      "0   2021-01-01   Health   6849\n",
      "1   2021-01-02   Family   3596\n",
      "2   2021-01-03   Health   2065\n",
      "3   2021-01-04     Food   6344\n",
      "4   2021-01-05     Food   7545\n",
      "5   2021-01-06    Music   3535\n",
      "6   2021-01-07     Food   3006\n",
      "7   2021-01-08     Food   9426\n",
      "8   2021-01-09   Travel   3907\n",
      "9   2021-01-10  Fitness   6253\n",
      "10  2021-01-11   Travel    930\n",
      "11  2021-01-12    Music   8529\n",
      "12  2021-01-13     Food   3577\n",
      "13  2021-01-14  Fitness   8922\n",
      "14  2021-01-15   Health   2844\n",
      "15  2021-01-16  Culture    580\n",
      "16  2021-01-17     Food   3439\n",
      "17  2021-01-18   Family    960\n",
      "18  2021-01-19  Fashion   8395\n",
      "19  2021-01-20   Health    511\n",
      "20  2021-01-21     Food   6322\n",
      "21  2021-01-22   Travel   2531\n",
      "22  2021-01-23  Fitness   3234\n",
      "23  2021-01-24  Fitness   4541\n",
      "24  2021-01-25  Fashion   4667\n",
      "25  2021-01-26   Health   1811\n",
      "26  2021-01-27  Fashion   7942\n",
      "27  2021-01-28  Culture     30\n",
      "28  2021-01-29    Music   6465\n",
      "29  2021-01-30  Fashion   1783\n",
      "..         ...      ...    ...\n",
      "470 2022-04-16   Health    128\n",
      "471 2022-04-17  Fashion   2837\n",
      "472 2022-04-18   Travel    260\n",
      "473 2022-04-19  Culture   2480\n",
      "474 2022-04-20   Travel   2084\n",
      "475 2022-04-21   Travel   7638\n",
      "476 2022-04-22   Family   8906\n",
      "477 2022-04-23  Culture   5664\n",
      "478 2022-04-24   Travel   9179\n",
      "479 2022-04-25  Fitness   3938\n",
      "480 2022-04-26     Food   4821\n",
      "481 2022-04-27  Culture   8794\n",
      "482 2022-04-28   Family   3110\n",
      "483 2022-04-29  Fitness   2333\n",
      "484 2022-04-30  Fitness   8736\n",
      "485 2022-05-01    Music   4750\n",
      "486 2022-05-02  Fitness   2176\n",
      "487 2022-05-03     Food   4917\n",
      "488 2022-05-04     Food    397\n",
      "489 2022-05-05  Fashion   6050\n",
      "490 2022-05-06   Health   4371\n",
      "491 2022-05-07    Music   7624\n",
      "492 2022-05-08    Music   2627\n",
      "493 2022-05-09  Fashion   2660\n",
      "494 2022-05-10     Food   9423\n",
      "495 2022-05-11  Fashion   1585\n",
      "496 2022-05-12    Music   3261\n",
      "497 2022-05-13    Music   5468\n",
      "498 2022-05-14  Fitness   8458\n",
      "499 2022-05-15   Family     61\n",
      "\n",
      "[500 rows x 3 columns]\n"
     ]
    }
   ],
   "source": [
    "print(df)"
   ]
  },
  {
   "cell_type": "code",
   "execution_count": 22,
   "metadata": {},
   "outputs": [
    {
     "name": "stdout",
     "output_type": "stream",
     "text": [
      "         Date Category  Likes\n",
      "0  2021-01-01   Health   6849\n",
      "1  2021-01-02   Family   3596\n",
      "2  2021-01-03   Health   2065\n",
      "3  2021-01-04     Food   6344\n",
      "4  2021-01-05     Food   7545\n",
      "5  2021-01-06    Music   3535\n",
      "6  2021-01-07     Food   3006\n",
      "7  2021-01-08     Food   9426\n",
      "8  2021-01-09   Travel   3907\n",
      "9  2021-01-10  Fitness   6253\n",
      "10 2021-01-11   Travel    930\n",
      "11 2021-01-12    Music   8529\n",
      "12 2021-01-13     Food   3577\n",
      "13 2021-01-14  Fitness   8922\n",
      "14 2021-01-15   Health   2844\n",
      "15 2021-01-16  Culture    580\n",
      "16 2021-01-17     Food   3439\n",
      "17 2021-01-18   Family    960\n",
      "18 2021-01-19  Fashion   8395\n",
      "19 2021-01-20   Health    511\n"
     ]
    }
   ],
   "source": [
    "#Printing first 20 rows using head() function\n",
    "\n",
    "print(df.head(20))"
   ]
  },
  {
   "cell_type": "code",
   "execution_count": 23,
   "metadata": {},
   "outputs": [
    {
     "name": "stdout",
     "output_type": "stream",
     "text": [
      "            Likes\n",
      "count   500.00000\n",
      "mean   4778.68200\n",
      "std    2886.52277\n",
      "min       9.00000\n",
      "25%    2348.00000\n",
      "50%    4536.00000\n",
      "75%    7359.00000\n",
      "max    9948.00000\n"
     ]
    }
   ],
   "source": [
    "#Using describe() function for calculating statistical data\n",
    "\n",
    "print(df.describe())"
   ]
  },
  {
   "cell_type": "code",
   "execution_count": 24,
   "metadata": {},
   "outputs": [
    {
     "name": "stdout",
     "output_type": "stream",
     "text": [
      "<class 'pandas.core.frame.DataFrame'>\n",
      "RangeIndex: 500 entries, 0 to 499\n",
      "Data columns (total 3 columns):\n",
      "Date        500 non-null datetime64[ns]\n",
      "Category    500 non-null object\n",
      "Likes       500 non-null int32\n",
      "dtypes: datetime64[ns](1), int32(1), object(1)\n",
      "memory usage: 9.8+ KB\n"
     ]
    }
   ],
   "source": [
    "#Using info() function for getting information about the DataFrame\n",
    "\n",
    "df.info()"
   ]
  },
  {
   "cell_type": "markdown",
   "metadata": {},
   "source": [
    "## 5. Cleaning the Dataset"
   ]
  },
  {
   "cell_type": "code",
   "execution_count": 25,
   "metadata": {},
   "outputs": [],
   "source": [
    "#Using dropna() for removing rows that has null values\n",
    "\n",
    "df.dropna(inplace=True)"
   ]
  },
  {
   "cell_type": "code",
   "execution_count": 26,
   "metadata": {},
   "outputs": [],
   "source": [
    "# Removing duplicate values\n",
    "\n",
    "df.drop_duplicates(inplace=True)"
   ]
  },
  {
   "cell_type": "markdown",
   "metadata": {},
   "source": [
    "## 6. Transforming the Dataset"
   ]
  },
  {
   "cell_type": "code",
   "execution_count": 27,
   "metadata": {},
   "outputs": [
    {
     "data": {
      "text/plain": [
       "0     2021-01-01\n",
       "1     2021-01-02\n",
       "2     2021-01-03\n",
       "3     2021-01-04\n",
       "4     2021-01-05\n",
       "5     2021-01-06\n",
       "6     2021-01-07\n",
       "7     2021-01-08\n",
       "8     2021-01-09\n",
       "9     2021-01-10\n",
       "10    2021-01-11\n",
       "11    2021-01-12\n",
       "12    2021-01-13\n",
       "13    2021-01-14\n",
       "14    2021-01-15\n",
       "15    2021-01-16\n",
       "16    2021-01-17\n",
       "17    2021-01-18\n",
       "18    2021-01-19\n",
       "19    2021-01-20\n",
       "20    2021-01-21\n",
       "21    2021-01-22\n",
       "22    2021-01-23\n",
       "23    2021-01-24\n",
       "24    2021-01-25\n",
       "25    2021-01-26\n",
       "26    2021-01-27\n",
       "27    2021-01-28\n",
       "28    2021-01-29\n",
       "29    2021-01-30\n",
       "         ...    \n",
       "470   2022-04-16\n",
       "471   2022-04-17\n",
       "472   2022-04-18\n",
       "473   2022-04-19\n",
       "474   2022-04-20\n",
       "475   2022-04-21\n",
       "476   2022-04-22\n",
       "477   2022-04-23\n",
       "478   2022-04-24\n",
       "479   2022-04-25\n",
       "480   2022-04-26\n",
       "481   2022-04-27\n",
       "482   2022-04-28\n",
       "483   2022-04-29\n",
       "484   2022-04-30\n",
       "485   2022-05-01\n",
       "486   2022-05-02\n",
       "487   2022-05-03\n",
       "488   2022-05-04\n",
       "489   2022-05-05\n",
       "490   2022-05-06\n",
       "491   2022-05-07\n",
       "492   2022-05-08\n",
       "493   2022-05-09\n",
       "494   2022-05-10\n",
       "495   2022-05-11\n",
       "496   2022-05-12\n",
       "497   2022-05-13\n",
       "498   2022-05-14\n",
       "499   2022-05-15\n",
       "Name: Date, Length: 500, dtype: datetime64[ns]"
      ]
     },
     "execution_count": 27,
     "metadata": {},
     "output_type": "execute_result"
    }
   ],
   "source": [
    "#Importing datetime library\n",
    "#Defining datatype of Date column\n",
    "\n",
    "from datetime import datetime\n",
    "\n",
    "pd.to_datetime(df[\"Date\"])"
   ]
  },
  {
   "cell_type": "code",
   "execution_count": 28,
   "metadata": {},
   "outputs": [
    {
     "data": {
      "text/plain": [
       "0      6849\n",
       "1      3596\n",
       "2      2065\n",
       "3      6344\n",
       "4      7545\n",
       "5      3535\n",
       "6      3006\n",
       "7      9426\n",
       "8      3907\n",
       "9      6253\n",
       "10      930\n",
       "11     8529\n",
       "12     3577\n",
       "13     8922\n",
       "14     2844\n",
       "15      580\n",
       "16     3439\n",
       "17      960\n",
       "18     8395\n",
       "19      511\n",
       "20     6322\n",
       "21     2531\n",
       "22     3234\n",
       "23     4541\n",
       "24     4667\n",
       "25     1811\n",
       "26     7942\n",
       "27       30\n",
       "28     6465\n",
       "29     1783\n",
       "       ... \n",
       "470     128\n",
       "471    2837\n",
       "472     260\n",
       "473    2480\n",
       "474    2084\n",
       "475    7638\n",
       "476    8906\n",
       "477    5664\n",
       "478    9179\n",
       "479    3938\n",
       "480    4821\n",
       "481    8794\n",
       "482    3110\n",
       "483    2333\n",
       "484    8736\n",
       "485    4750\n",
       "486    2176\n",
       "487    4917\n",
       "488     397\n",
       "489    6050\n",
       "490    4371\n",
       "491    7624\n",
       "492    2627\n",
       "493    2660\n",
       "494    9423\n",
       "495    1585\n",
       "496    3261\n",
       "497    5468\n",
       "498    8458\n",
       "499      61\n",
       "Name: Likes, Length: 500, dtype: int32"
      ]
     },
     "execution_count": 28,
     "metadata": {},
     "output_type": "execute_result"
    }
   ],
   "source": [
    "#Defining datatype of Likes column\n",
    "\n",
    "df[\"Likes\"].astype(int)"
   ]
  },
  {
   "cell_type": "markdown",
   "metadata": {},
   "source": [
    "## 7. Visualizing the Dataset"
   ]
  },
  {
   "cell_type": "code",
   "execution_count": 29,
   "metadata": {},
   "outputs": [
    {
     "data": {
      "image/png": "[encoded data removed]",
      "text/plain": [
       "<Figure size 432x288 with 1 Axes>"
      ]
     },
     "metadata": {
      "needs_background": "light"
     },
     "output_type": "display_data"
    }
   ],
   "source": [
    "#Plotting a boxplot chart to measure the distribution of the data in dataset\n",
    "\n",
    "sns.boxplot(x=df[\"Likes\"])\n",
    "plt.show()"
   ]
  },
  {
   "cell_type": "code",
   "execution_count": 30,
   "metadata": {},
   "outputs": [
    {
     "data": {
      "image/png": "[encoded data removed]",
      "text/plain": [
       "<Figure size 432x288 with 1 Axes>"
      ]
     },
     "metadata": {
      "needs_background": "light"
     },
     "output_type": "display_data"
    }
   ],
   "source": [
    "#Plotting a chart to mesure the distribution of data category wise\n",
    "\n",
    "sns.boxplot(y=df[\"Likes\"],x = df[\"Category\"])\n",
    "plt.show()"
   ]
  },
  {
   "cell_type": "code",
   "execution_count": 31,
   "metadata": {},
   "outputs": [
    {
     "data": {
      "text/plain": [
       "Likes    4778.682\n",
       "dtype: float64"
      ]
     },
     "execution_count": 31,
     "metadata": {},
     "output_type": "execute_result"
    }
   ],
   "source": [
    "df.mean(axis=0, skipna = True)"
   ]
  },
  {
   "cell_type": "code",
   "execution_count": 32,
   "metadata": {},
   "outputs": [
    {
     "data": {
      "text/html": [
       "<div>\n",
       "<style scoped>\n",
       "    .dataframe tbody tr th:only-of-type {\n",
       "        vertical-align: middle;\n",
       "    }\n",
       "\n",
       "    .dataframe tbody tr th {\n",
       "        vertical-align: top;\n",
       "    }\n",
       "\n",
       "    .dataframe thead th {\n",
       "        text-align: right;\n",
       "    }\n",
       "</style>\n",
       "<table border=\"1\" class=\"dataframe\">\n",
       "  <thead>\n",
       "    <tr style=\"text-align: right;\">\n",
       "      <th></th>\n",
       "      <th>Likes</th>\n",
       "    </tr>\n",
       "    <tr>\n",
       "      <th>Category</th>\n",
       "      <th></th>\n",
       "    </tr>\n",
       "  </thead>\n",
       "  <tbody>\n",
       "    <tr>\n",
       "      <th>Culture</th>\n",
       "      <td>4552.800000</td>\n",
       "    </tr>\n",
       "    <tr>\n",
       "      <th>Family</th>\n",
       "      <td>4729.666667</td>\n",
       "    </tr>\n",
       "    <tr>\n",
       "      <th>Fashion</th>\n",
       "      <td>5353.797101</td>\n",
       "    </tr>\n",
       "    <tr>\n",
       "      <th>Fitness</th>\n",
       "      <td>4934.820896</td>\n",
       "    </tr>\n",
       "    <tr>\n",
       "      <th>Food</th>\n",
       "      <td>4613.672414</td>\n",
       "    </tr>\n",
       "    <tr>\n",
       "      <th>Health</th>\n",
       "      <td>4362.947368</td>\n",
       "    </tr>\n",
       "    <tr>\n",
       "      <th>Music</th>\n",
       "      <td>4754.387097</td>\n",
       "    </tr>\n",
       "    <tr>\n",
       "      <th>Travel</th>\n",
       "      <td>4805.655172</td>\n",
       "    </tr>\n",
       "  </tbody>\n",
       "</table>\n",
       "</div>"
      ],
      "text/plain": [
       "                Likes\n",
       "Category             \n",
       "Culture   4552.800000\n",
       "Family    4729.666667\n",
       "Fashion   5353.797101\n",
       "Fitness   4934.820896\n",
       "Food      4613.672414\n",
       "Health    4362.947368\n",
       "Music     4754.387097\n",
       "Travel    4805.655172"
      ]
     },
     "execution_count": 32,
     "metadata": {},
     "output_type": "execute_result"
    }
   ],
   "source": [
    "df.groupby(\"Category\").mean()"
   ]
  },
  {
   "cell_type": "code",
   "execution_count": null,
   "metadata": {},
   "outputs": [],
   "source": []
  }
 ],
 "metadata": {
  "kernelspec": {
   "display_name": "Python 3",
   "language": "python",
   "name": "python3"
  },
  "language_info": {
   "codemirror_mode": {
    "name": "ipython",
    "version": 3
   },
   "file_extension": ".py",
   "mimetype": "text/x-python",
   "name": "python",
   "nbconvert_exporter": "python",
   "pygments_lexer": "ipython3",
   "version": "3.7.3"
  }
 },
 "nbformat": 4,
 "nbformat_minor": 2
}
